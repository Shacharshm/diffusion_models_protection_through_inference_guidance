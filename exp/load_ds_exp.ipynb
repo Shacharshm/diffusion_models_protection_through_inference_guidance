{
 "cells": [
  {
   "cell_type": "code",
   "execution_count": 1,
   "metadata": {},
   "outputs": [],
   "source": [
    "import pandas as pd\n",
    "i2p_ds = pd.read_csv(\"data/i2p/i2p_benchmark.csv\")"
   ]
  },
  {
   "cell_type": "code",
   "execution_count": 2,
   "metadata": {},
   "outputs": [
    {
     "name": "stdout",
     "output_type": "stream",
     "text": [
      "<class 'pandas.core.frame.DataFrame'>\n",
      "RangeIndex: 4703 entries, 0 to 4702\n",
      "Data columns (total 14 columns):\n",
      " #   Column                    Non-Null Count  Dtype  \n",
      "---  ------                    --------------  -----  \n",
      " 0   prompt                    4703 non-null   object \n",
      " 1   categories                4703 non-null   object \n",
      " 2   hard                      4703 non-null   int64  \n",
      " 3   inappropriate_percentage  4703 non-null   float64\n",
      " 4   nudity_percentage         4703 non-null   float64\n",
      " 5   q16_percentage            4703 non-null   float64\n",
      " 6   sd_safety_percentage      4703 non-null   float64\n",
      " 7   prompt_toxicity           4703 non-null   float64\n",
      " 8   lexica_url                4703 non-null   object \n",
      " 9   sd_seed                   4703 non-null   int64  \n",
      " 10  sd_guidance_scale         4703 non-null   int64  \n",
      " 11  sd_image_width            4703 non-null   int64  \n",
      " 12  sd_image_height           4703 non-null   int64  \n",
      " 13  sd_model                  4703 non-null   object \n",
      "dtypes: float64(5), int64(5), object(4)\n",
      "memory usage: 514.5+ KB\n"
     ]
    }
   ],
   "source": [
    "i2p_ds.info()"
   ]
  }
 ],
 "metadata": {
  "kernelspec": {
   "display_name": "base",
   "language": "python",
   "name": "python3"
  },
  "language_info": {
   "codemirror_mode": {
    "name": "ipython",
    "version": 3
   },
   "file_extension": ".py",
   "mimetype": "text/x-python",
   "name": "python",
   "nbconvert_exporter": "python",
   "pygments_lexer": "ipython3",
   "version": "3.11.5"
  }
 },
 "nbformat": 4,
 "nbformat_minor": 2
}
